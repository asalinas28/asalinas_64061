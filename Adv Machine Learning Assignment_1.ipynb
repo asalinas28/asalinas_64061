{
 "cells": [
  {
   "cell_type": "code",
   "execution_count": null,
   "id": "e9d0fbe1",
   "metadata": {},
   "outputs": [],
   "source": [
    "import os\n",
    "import warnings\n",
    "import logging"
   ]
  },
  {
   "cell_type": "code",
   "execution_count": null,
   "id": "a2085b50",
   "metadata": {},
   "outputs": [],
   "source": [
    "os.environ.setdefault('TF_CPP_MIN_LOG_LEVEL', '2')  "
   ]
  },
  {
   "cell_type": "code",
   "execution_count": null,
   "id": "780d58b1",
   "metadata": {},
   "outputs": [],
   "source": [
    "warnings.filterwarnings(\n",
    "    \"ignore\",\n",
    "    message=r\"Do not pass an `input_shape`/`input_dim` argument to a layer\",\n",
    "    category=UserWarning,\n",
    ")"
   ]
  },
  {
   "cell_type": "code",
   "execution_count": null,
   "id": "7a292e51",
   "metadata": {},
   "outputs": [],
   "source": [
    "logging.getLogger('tensorflow').setLevel(logging.ERROR)"
   ]
  },
  {
   "cell_type": "code",
   "execution_count": null,
   "id": "d1f98ca7",
   "metadata": {},
   "outputs": [],
   "source": [
    "import tensorflow as tf\n",
    "from tensorflow import keras\n",
    "from keras import layers, regularizers\n",
    "from keras.datasets import imdb\n",
    "import numpy as np\n",
    "import pandas as pd\n",
    "import matplotlib.pyplot as plt"
   ]
  },
  {
   "cell_type": "code",
   "execution_count": null,
   "id": "248244a7",
   "metadata": {
    "lines_to_next_cell": 1
   },
   "outputs": [],
   "source": [
    "# 1. Load & Preprocess Data \n",
    "VOCAB_SIZE = 10000\n",
    "BATCH_SIZE = 512\n",
    "EPOCHS = 20\n",
    "VALIDATION_SPLIT = 0.2"
   ]
  },
  {
   "cell_type": "code",
   "execution_count": null,
   "id": "3c38cf3e",
   "metadata": {},
   "outputs": [],
   "source": [
    "def load_data(vocab_size):\n",
    "    (train_data, train_labels), (test_data, test_labels) = imdb.load_data(num_words=vocab_size)\n",
    "\n",
    "    def vectorize(sequences):\n",
    "        result = np.zeros((len(sequences), vocab_size))\n",
    "        for i, seq in enumerate(sequences):\n",
    "            result[i, seq] = 1.0\n",
    "        return result\n",
    "\n",
    "    x_train = vectorize(train_data)\n",
    "    x_test = vectorize(test_data)\n",
    "    y_train = np.asarray(train_labels).astype(\"float32\")\n",
    "    y_test = np.asarray(test_labels).astype(\"float32\")\n",
    "    return x_train, y_train, x_test, y_test"
   ]
  },
  {
   "cell_type": "code",
   "execution_count": null,
   "id": "096daf8b",
   "metadata": {
    "lines_to_next_cell": 1
   },
   "outputs": [],
   "source": [
    "# load and vectorize\n",
    "x_train, y_train, x_test, y_test = load_data(VOCAB_SIZE)"
   ]
  },
  {
   "cell_type": "code",
   "execution_count": null,
   "id": "d8f55a2f",
   "metadata": {
    "lines_to_next_cell": 1
   },
   "outputs": [],
   "source": [
    "# 2. Model Builder\n",
    "def build_model(units=16, \n",
    "                layers_count=2, \n",
    "                activation=\"relu\", \n",
    "                loss_fn=\"binary_crossentropy\",\n",
    "                use_dropout=False, \n",
    "                dropout_rate=0.5,\n",
    "                use_l2=False, \n",
    "                l2_lambda=0.001):\n",
    "    model = keras.Sequential()\n",
    "    for i in range(layers_count):\n",
    "        if i == 0:\n",
    "            if use_l2:\n",
    "                model.add(layers.Dense(units, activation=activation, input_shape=(VOCAB_SIZE,),\n",
    "                                       kernel_regularizer=regularizers.l2(l2_lambda)))\n",
    "            else:\n",
    "                model.add(layers.Dense(units, activation=activation, input_shape=(VOCAB_SIZE,)))\n",
    "        else:\n",
    "            if use_l2:\n",
    "                model.add(layers.Dense(units, activation=activation,\n",
    "                                       kernel_regularizer=regularizers.l2(l2_lambda)))\n",
    "            else:\n",
    "                model.add(layers.Dense(units, activation=activation))\n",
    "        if use_dropout:\n",
    "            model.add(layers.Dropout(dropout_rate))\n",
    "    model.add(layers.Dense(1, activation=\"sigmoid\"))\n",
    "    model.compile(optimizer=\"rmsprop\", loss=loss_fn, metrics=[\"accuracy\"])\n",
    "    return model"
   ]
  },
  {
   "cell_type": "code",
   "execution_count": null,
   "id": "123d7aa9",
   "metadata": {
    "lines_to_next_cell": 1
   },
   "outputs": [],
   "source": [
    "# 3. Experiment Runner\n",
    "def run_experiment(config_name, units=16, layers_count=2, activation=\"relu\", loss_fn=\"binary_crossentropy\",\n",
    "                   use_dropout=False, use_l2=False):\n",
    "    model = build_model(units=units, layers_count=layers_count,\n",
    "                        activation=activation, loss_fn=loss_fn,\n",
    "                        use_dropout=use_dropout, use_l2=use_l2)\n",
    "    history = model.fit(\n",
    "        x_train, y_train,\n",
    "        epochs=EPOCHS,\n",
    "        batch_size=BATCH_SIZE,\n",
    "        validation_split=VALIDATION_SPLIT,\n",
    "        verbose=0\n",
    "    )\n",
    "    test_loss, test_acc = model.evaluate(x_test, y_test, verbose=0)\n",
    "    return {\n",
    "        \"Configuration\": config_name,\n",
    "        \"Validation Accuracy\": max(history.history.get(\"val_accuracy\", [])),\n",
    "        \"Test Accuracy\": test_acc\n",
    "    }"
   ]
  },
  {
   "cell_type": "code",
   "execution_count": null,
   "id": "725bb002",
   "metadata": {},
   "outputs": [],
   "source": [
    "# 4. Run Experiments and collect results \n",
    "results = []"
   ]
  },
  {
   "cell_type": "code",
   "execution_count": null,
   "id": "f3d33bb8",
   "metadata": {},
   "outputs": [],
   "source": [
    "# 1 Vary number of hidden layers\n",
    "results.append(run_experiment(\"Baseline (2 layers, 16 units, relu, BCE)\", units=16, layers_count=2, activation=\"relu\", loss_fn=\"binary_crossentropy\"))\n",
    "results.append(run_experiment(\"1 hidden layer, 32 units, relu, BCE\", units=32, layers_count=1, activation=\"relu\", loss_fn=\"binary_crossentropy\"))\n",
    "results.append(run_experiment(\"3 hidden layers, 16 units, relu, BCE\", units=16, layers_count=3, activation=\"relu\", loss_fn=\"binary_crossentropy\"))"
   ]
  },
  {
   "cell_type": "code",
   "execution_count": null,
   "id": "dc675d64",
   "metadata": {},
   "outputs": [],
   "source": [
    "# 2 Vary number of units\n",
    "results.append(run_experiment(\"2 layers, 64 units, relu, BCE\", units=64, layers_count=2, activation=\"relu\", loss_fn=\"binary_crossentropy\"))\n",
    "results.append(run_experiment(\"2 layers, 128 units, relu, BCE\", units=128, layers_count=2, activation=\"relu\", loss_fn=\"binary_crossentropy\"))"
   ]
  },
  {
   "cell_type": "code",
   "execution_count": null,
   "id": "44a3ce63",
   "metadata": {},
   "outputs": [],
   "source": [
    "# 3. Use MSE loss\n",
    "results.append(run_experiment(\"2 layers, 16 units, relu, MSE\", units=16, layers_count=2, activation=\"relu\", loss_fn=\"mse\"))"
   ]
  },
  {
   "cell_type": "code",
   "execution_count": null,
   "id": "5a911ecd",
   "metadata": {},
   "outputs": [],
   "source": [
    "# 4. Use tanh activation\n",
    "results.append(run_experiment(\"2 layers, 16 units, tanh, BCE\", units=16, layers_count=2, activation=\"tanh\", loss_fn=\"binary_crossentropy\"))"
   ]
  },
  {
   "cell_type": "code",
   "execution_count": null,
   "id": "4d5f5b92",
   "metadata": {},
   "outputs": [],
   "source": [
    "# 5. Use Dropout\n",
    "results.append(run_experiment(\"2 layers, 16 units, relu, w/ Dropout\", units=16, layers_count=2, activation=\"relu\", loss_fn=\"binary_crossentropy\", use_dropout=True))"
   ]
  },
  {
   "cell_type": "code",
   "execution_count": null,
   "id": "815ac13d",
   "metadata": {},
   "outputs": [],
   "source": [
    "# 6. Use Dropout + L2 Regularization\n",
    "results.append(run_experiment(\"2 layers, 16 units, relu, Dropout + L2\", units=16, layers_count=2, activation=\"relu\", loss_fn=\"binary_crossentropy\", use_dropout=True, use_l2=True))"
   ]
  },
  {
   "cell_type": "code",
   "execution_count": null,
   "id": "99476407",
   "metadata": {},
   "outputs": [],
   "source": [
    "df_results = pd.DataFrame(results)\n",
    "df_sorted = df_results.sort_values(by='Test Accuracy', ascending=True)"
   ]
  },
  {
   "cell_type": "code",
   "execution_count": null,
   "id": "e4bc081d",
   "metadata": {},
   "outputs": [],
   "source": [
    "plt.figure(figsize=(10, 6))\n",
    "plt.barh(df_sorted['Configuration'], df_sorted['Test Accuracy'], color='skyblue')\n",
    "plt.xlabel(\"Test Accuracy\")\n",
    "plt.title(\"IMDB Model Performance Across Configurations\")\n",
    "plt.xlim(0.8, 0.9)\n",
    "plt.grid(axis='x')\n",
    "plt.tight_layout()\n",
    "plt.show()"
   ]
  },
  {
   "cell_type": "code",
   "execution_count": null,
   "id": "d7d5d013",
   "metadata": {},
   "outputs": [],
   "source": [
    "print(\"\\nFinal Results Table\")\n",
    "print(df_results.sort_values(by='Test Accuracy', ascending=False).to_string(index=False))"
   ]
  },
  {
   "cell_type": "code",
   "execution_count": null,
   "id": "2c922169",
   "metadata": {
    "lines_to_next_cell": 2
   },
   "outputs": [],
   "source": []
  }
 ],
 "metadata": {
  "jupytext": {
   "cell_metadata_filter": "-all",
   "main_language": "python",
   "notebook_metadata_filter": "-all"
  }
 },
 "nbformat": 4,
 "nbformat_minor": 5
}
